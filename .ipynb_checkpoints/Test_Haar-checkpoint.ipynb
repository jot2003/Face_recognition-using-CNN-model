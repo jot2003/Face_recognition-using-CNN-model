{
 "cells": [
  {
   "cell_type": "code",
   "execution_count": 1,
   "id": "19ebfcbb",
   "metadata": {},
   "outputs": [],
   "source": [
    "import cv2\n",
    "import matplotlib.pyplot as plt"
   ]
  },
  {
   "cell_type": "code",
   "execution_count": 2,
   "id": "c85269d2",
   "metadata": {},
   "outputs": [],
   "source": [
    "face = cv2.CascadeClassifier(\".\\Haar\\haarcascade_frontalface_default.xml\")\n",
    "eye = cv2.CascadeClassifier(\".\\Haar\\haarcascade_eye_tree_eyeglasses.xml\")"
   ]
  },
  {
   "cell_type": "code",
   "execution_count": 3,
   "id": "986224da",
   "metadata": {},
   "outputs": [
    {
     "ename": "error",
     "evalue": "OpenCV(4.9.0) D:\\a\\opencv-python\\opencv-python\\opencv\\modules\\imgproc\\src\\color.cpp:196: error: (-215:Assertion failed) !_src.empty() in function 'cv::cvtColor'\n",
     "output_type": "error",
     "traceback": [
      "\u001b[1;31m---------------------------------------------------------------------------\u001b[0m",
      "\u001b[1;31merror\u001b[0m                                     Traceback (most recent call last)",
      "Cell \u001b[1;32mIn[3], line 2\u001b[0m\n\u001b[0;32m      1\u001b[0m img \u001b[38;5;241m=\u001b[39m cv2\u001b[38;5;241m.\u001b[39mimread(\u001b[38;5;124m'\u001b[39m\u001b[38;5;124m./data/Phong/image_20.jpg\u001b[39m\u001b[38;5;124m'\u001b[39m)\n\u001b[1;32m----> 2\u001b[0m gray \u001b[38;5;241m=\u001b[39m \u001b[43mcv2\u001b[49m\u001b[38;5;241;43m.\u001b[39;49m\u001b[43mcvtColor\u001b[49m\u001b[43m(\u001b[49m\u001b[43mimg\u001b[49m\u001b[43m,\u001b[49m\u001b[43mcv2\u001b[49m\u001b[38;5;241;43m.\u001b[39;49m\u001b[43mCOLOR_BGR2GRAY\u001b[49m\u001b[43m)\u001b[49m\n\u001b[0;32m      3\u001b[0m plt\u001b[38;5;241m.\u001b[39mimshow(gray,cmap\u001b[38;5;241m=\u001b[39m\u001b[38;5;124m'\u001b[39m\u001b[38;5;124mgray\u001b[39m\u001b[38;5;124m'\u001b[39m)\n",
      "\u001b[1;31merror\u001b[0m: OpenCV(4.9.0) D:\\a\\opencv-python\\opencv-python\\opencv\\modules\\imgproc\\src\\color.cpp:196: error: (-215:Assertion failed) !_src.empty() in function 'cv::cvtColor'\n"
     ]
    }
   ],
   "source": [
    "img = cv2.imread('./data/Phong/image_20.jpg')\n",
    "gray = cv2.cvtColor(img,cv2.COLOR_BGR2GRAY)\n",
    "plt.imshow(gray,cmap='gray')"
   ]
  },
  {
   "cell_type": "code",
   "execution_count": null,
   "id": "ca11bffa",
   "metadata": {},
   "outputs": [],
   "source": [
    "def detect(img):\n",
    "    gray = cv2.cvtColor(img,cv2.COLOR_BGR2GRAY)\n",
    "    face_detect = face.detectMultiScale(gray, scaleFactor = 1.1, minNeighbors = 5, minSize = (30,30))\n",
    "    eye_detect = eye.detectMultiScale(gray,scaleFactor = 1.1, minNeighbors = 5, minSize = (30,30))\n",
    "    for (x,y,w,h) in face_detect:\n",
    "        cv2.rectangle(img,(x,y),(x+w,y+h),(0,255,0),2)\n",
    "    for (x,y,w,h) in eye_detect:\n",
    "        cv2.rectangle(img,(x,y),(x+w,y+h),(255,0,0),2)\n",
    "    return img"
   ]
  },
  {
   "cell_type": "code",
   "execution_count": 4,
   "id": "0d6d865a",
   "metadata": {},
   "outputs": [],
   "source": [
    "def detect_test8(img):\n",
    "    gray = cv2.cvtColor(img,cv2.COLOR_BGR2GRAY)\n",
    "    face_detect = face.detectMultiScale(gray, scaleFactor = 1.1, minNeighbors = 5, minSize = (30,30))\n",
    "    eye_detect = eye.detectMultiScale(gray,scaleFactor = 1.1, minNeighbors = 5, minSize = (30,30))\n",
    "    for (x,y,w,h) in face_detect:\n",
    "        cv2.rectangle(img,(x,y),(x+w,y+h),(0,255,0),2)\n",
    "    for (x,y,w,h) in eye_detect:\n",
    "        cv2.rectangle(img,(x,y),(x+w,y+h),(255,0,0),2)\n",
    "    axs[i // 4, i % 4].imshow(img[:,:,::-1])\n",
    "    axs[i // 4, i % 4].set_title(f\"Image {i+1}\")\n",
    "    axs[i // 4, i % 4].axis('off')"
   ]
  },
  {
   "cell_type": "code",
   "execution_count": 5,
   "id": "1b623f24",
   "metadata": {},
   "outputs": [
    {
     "ename": "NameError",
     "evalue": "name 'gray' is not defined",
     "output_type": "error",
     "traceback": [
      "\u001b[1;31m---------------------------------------------------------------------------\u001b[0m",
      "\u001b[1;31mNameError\u001b[0m                                 Traceback (most recent call last)",
      "Cell \u001b[1;32mIn[5], line 1\u001b[0m\n\u001b[1;32m----> 1\u001b[0m face_detect \u001b[38;5;241m=\u001b[39m face\u001b[38;5;241m.\u001b[39mdetectMultiScale(\u001b[43mgray\u001b[49m, scaleFactor \u001b[38;5;241m=\u001b[39m \u001b[38;5;241m1.1\u001b[39m, minNeighbors \u001b[38;5;241m=\u001b[39m \u001b[38;5;241m5\u001b[39m, minSize \u001b[38;5;241m=\u001b[39m (\u001b[38;5;241m30\u001b[39m,\u001b[38;5;241m30\u001b[39m))\n\u001b[0;32m      2\u001b[0m eye_detect \u001b[38;5;241m=\u001b[39m eye\u001b[38;5;241m.\u001b[39mdetectMultiScale(gray,scaleFactor \u001b[38;5;241m=\u001b[39m \u001b[38;5;241m1.1\u001b[39m, minNeighbors \u001b[38;5;241m=\u001b[39m \u001b[38;5;241m5\u001b[39m, minSize \u001b[38;5;241m=\u001b[39m (\u001b[38;5;241m30\u001b[39m,\u001b[38;5;241m30\u001b[39m))\n",
      "\u001b[1;31mNameError\u001b[0m: name 'gray' is not defined"
     ]
    }
   ],
   "source": [
    "face_detect = face.detectMultiScale(gray, scaleFactor = 1.1, minNeighbors = 5, minSize = (30,30))\n",
    "eye_detect = eye.detectMultiScale(gray,scaleFactor = 1.1, minNeighbors = 5, minSize = (30,30))"
   ]
  },
  {
   "cell_type": "code",
   "execution_count": 6,
   "id": "95994985",
   "metadata": {},
   "outputs": [
    {
     "ename": "NameError",
     "evalue": "name 'face_detect' is not defined",
     "output_type": "error",
     "traceback": [
      "\u001b[1;31m---------------------------------------------------------------------------\u001b[0m",
      "\u001b[1;31mNameError\u001b[0m                                 Traceback (most recent call last)",
      "Cell \u001b[1;32mIn[6], line 1\u001b[0m\n\u001b[1;32m----> 1\u001b[0m \u001b[38;5;28;01mfor\u001b[39;00m (x,y,w,h) \u001b[38;5;129;01min\u001b[39;00m \u001b[43mface_detect\u001b[49m:\n\u001b[0;32m      2\u001b[0m     cv2\u001b[38;5;241m.\u001b[39mrectangle(img,(x,y),(x\u001b[38;5;241m+\u001b[39mw,y\u001b[38;5;241m+\u001b[39mh),(\u001b[38;5;241m0\u001b[39m,\u001b[38;5;241m255\u001b[39m,\u001b[38;5;241m0\u001b[39m),\u001b[38;5;241m2\u001b[39m)\n",
      "\u001b[1;31mNameError\u001b[0m: name 'face_detect' is not defined"
     ]
    }
   ],
   "source": [
    "for (x,y,w,h) in face_detect:\n",
    "    cv2.rectangle(img,(x,y),(x+w,y+h),(0,255,0),2)"
   ]
  },
  {
   "cell_type": "code",
   "execution_count": 7,
   "id": "21bf5ca9",
   "metadata": {},
   "outputs": [
    {
     "ename": "NameError",
     "evalue": "name 'eye_detect' is not defined",
     "output_type": "error",
     "traceback": [
      "\u001b[1;31m---------------------------------------------------------------------------\u001b[0m",
      "\u001b[1;31mNameError\u001b[0m                                 Traceback (most recent call last)",
      "Cell \u001b[1;32mIn[7], line 1\u001b[0m\n\u001b[1;32m----> 1\u001b[0m \u001b[38;5;28;01mfor\u001b[39;00m (x,y,w,h) \u001b[38;5;129;01min\u001b[39;00m \u001b[43meye_detect\u001b[49m:\n\u001b[0;32m      2\u001b[0m     cv2\u001b[38;5;241m.\u001b[39mrectangle(img,(x,y),(x\u001b[38;5;241m+\u001b[39mw,y\u001b[38;5;241m+\u001b[39mh),(\u001b[38;5;241m255\u001b[39m,\u001b[38;5;241m0\u001b[39m,\u001b[38;5;241m0\u001b[39m),\u001b[38;5;241m2\u001b[39m)\n",
      "\u001b[1;31mNameError\u001b[0m: name 'eye_detect' is not defined"
     ]
    }
   ],
   "source": [
    "for (x,y,w,h) in eye_detect:\n",
    "    cv2.rectangle(img,(x,y),(x+w,y+h),(255,0,0),2)"
   ]
  },
  {
   "cell_type": "code",
   "execution_count": 8,
   "id": "ced92233",
   "metadata": {},
   "outputs": [
    {
     "ename": "TypeError",
     "evalue": "'NoneType' object is not subscriptable",
     "output_type": "error",
     "traceback": [
      "\u001b[1;31m---------------------------------------------------------------------------\u001b[0m",
      "\u001b[1;31mTypeError\u001b[0m                                 Traceback (most recent call last)",
      "Cell \u001b[1;32mIn[8], line 1\u001b[0m\n\u001b[1;32m----> 1\u001b[0m plt\u001b[38;5;241m.\u001b[39mimshow(\u001b[43mimg\u001b[49m\u001b[43m[\u001b[49m\u001b[43m:\u001b[49m\u001b[43m,\u001b[49m\u001b[43m:\u001b[49m\u001b[43m,\u001b[49m\u001b[43m:\u001b[49m\u001b[43m:\u001b[49m\u001b[38;5;241;43m-\u001b[39;49m\u001b[38;5;241;43m1\u001b[39;49m\u001b[43m]\u001b[49m)\n",
      "\u001b[1;31mTypeError\u001b[0m: 'NoneType' object is not subscriptable"
     ]
    }
   ],
   "source": [
    "plt.imshow(img[:,:,::-1])"
   ]
  },
  {
   "cell_type": "code",
   "execution_count": 9,
   "id": "1ba4b37b",
   "metadata": {},
   "outputs": [
    {
     "ename": "TypeError",
     "evalue": "'NoneType' object is not subscriptable",
     "output_type": "error",
     "traceback": [
      "\u001b[1;31m---------------------------------------------------------------------------\u001b[0m",
      "\u001b[1;31mTypeError\u001b[0m                                 Traceback (most recent call last)",
      "Cell \u001b[1;32mIn[9], line 4\u001b[0m\n\u001b[0;32m      2\u001b[0m \u001b[38;5;28;01mfor\u001b[39;00m i \u001b[38;5;129;01min\u001b[39;00m \u001b[38;5;28mrange\u001b[39m(\u001b[38;5;241m8\u001b[39m):\n\u001b[0;32m      3\u001b[0m     img \u001b[38;5;241m=\u001b[39m cv2\u001b[38;5;241m.\u001b[39mimread(\u001b[38;5;124mf\u001b[39m\u001b[38;5;124m\"\u001b[39m\u001b[38;5;124m./data/Phong/image_\u001b[39m\u001b[38;5;132;01m{\u001b[39;00m\u001b[38;5;241m20\u001b[39m\u001b[38;5;241m*\u001b[39m(i\u001b[38;5;241m+\u001b[39m\u001b[38;5;241m1\u001b[39m)\u001b[38;5;132;01m}\u001b[39;00m\u001b[38;5;124m.jpg\u001b[39m\u001b[38;5;124m\"\u001b[39m)\n\u001b[1;32m----> 4\u001b[0m     axs[i \u001b[38;5;241m/\u001b[39m\u001b[38;5;241m/\u001b[39m \u001b[38;5;241m4\u001b[39m, i \u001b[38;5;241m%\u001b[39m \u001b[38;5;241m4\u001b[39m]\u001b[38;5;241m.\u001b[39mimshow(\u001b[43mimg\u001b[49m\u001b[43m[\u001b[49m\u001b[43m:\u001b[49m\u001b[43m,\u001b[49m\u001b[43m:\u001b[49m\u001b[43m,\u001b[49m\u001b[43m:\u001b[49m\u001b[43m:\u001b[49m\u001b[38;5;241;43m-\u001b[39;49m\u001b[38;5;241;43m1\u001b[39;49m\u001b[43m]\u001b[49m)\n\u001b[0;32m      5\u001b[0m     axs[i \u001b[38;5;241m/\u001b[39m\u001b[38;5;241m/\u001b[39m \u001b[38;5;241m4\u001b[39m, i \u001b[38;5;241m%\u001b[39m \u001b[38;5;241m4\u001b[39m]\u001b[38;5;241m.\u001b[39mset_title(\u001b[38;5;124mf\u001b[39m\u001b[38;5;124m\"\u001b[39m\u001b[38;5;124mImage \u001b[39m\u001b[38;5;132;01m{\u001b[39;00mi\u001b[38;5;241m+\u001b[39m\u001b[38;5;241m1\u001b[39m\u001b[38;5;132;01m}\u001b[39;00m\u001b[38;5;124m\"\u001b[39m)\n\u001b[0;32m      6\u001b[0m     axs[i \u001b[38;5;241m/\u001b[39m\u001b[38;5;241m/\u001b[39m \u001b[38;5;241m4\u001b[39m, i \u001b[38;5;241m%\u001b[39m \u001b[38;5;241m4\u001b[39m]\u001b[38;5;241m.\u001b[39maxis(\u001b[38;5;124m'\u001b[39m\u001b[38;5;124moff\u001b[39m\u001b[38;5;124m'\u001b[39m)\n",
      "\u001b[1;31mTypeError\u001b[0m: 'NoneType' object is not subscriptable"
     ]
    },
    {
     "data": {
      "image/png": "[encoded data removed]",
      "text/plain": [
       "<Figure size 1600x800 with 8 Axes>"
      ]
     },
     "metadata": {},
     "output_type": "display_data"
    }
   ],
   "source": [
    "fig, axs = plt.subplots(2, 4, figsize=(16, 8))\n",
    "for i in range(8):\n",
    "    img = cv2.imread(f\"./data/Phong/image_{20*(i+1)}.jpg\")\n",
    "    axs[i // 4, i % 4].imshow(img[:,:,::-1])\n",
    "    axs[i // 4, i % 4].set_title(f\"Image {i+1}\")\n",
    "    axs[i // 4, i % 4].axis('off')"
   ]
  },
  {
   "cell_type": "code",
   "execution_count": 12,
   "id": "69a77cb2",
   "metadata": {},
   "outputs": [],
   "source": [
    "def save_resized_faces(img, image_index):\n",
    "    desired_width = 256\n",
    "    desired_height = 256\n",
    "    # Đọc hình ảnh\n",
    "    if not img is None:\n",
    "        \n",
    "    # Chuyển sang ảnh xám\n",
    "        gray = cv2.cvtColor(img, cv2.COLOR_BGR2GRAY)\n",
    "\n",
    "    # Phát hiện khuôn mặt\n",
    "        face_detect = face.detectMultiScale(gray, scaleFactor=1.1, minNeighbors=5, minSize=(30, 30))\n",
    "\n",
    "    # Lặp qua các khuôn mặt đã phát hiện và lưu thành các ảnh riêng biệt\n",
    "        for i, (x, y, w, h) in enumerate(face_detect):\n",
    "        # Kiểm tra xem kích thước của vùng chứa khuôn mặt có hợp lệ không\n",
    "            if w > 0 and h > 0:\n",
    "        # Cắt vùng chứa khuôn mặt\n",
    "                face_region = img[max(0, y-50):min(img.shape[0], y+h+50), max(0, x-50):min(img.shape[1], x+w+50)]\n",
    "\n",
    "        # Chỉnh kích thước về kích thước mong muốn\n",
    "            #face_resized = cv2.resize(face_region, (desired_width, desired_height))\n",
    "\n",
    "        # Lưu vùng chứa khuôn mặt đã được thay đổi kích thước thành ảnh mới\n",
    "                cv2.imwrite(f'./Anne Hathaway/image{image_index}face{i+1}.jpg', face_region)\n",
    "            else:\n",
    "                print(f\"Invalid face region detected in image {image_index}, skipping...\")\n",
    "        "
   ]
  },
  {
   "cell_type": "code",
   "execution_count": 13,
   "id": "4344cb10",
   "metadata": {},
   "outputs": [],
   "source": [
    "import os\n",
    "import cv2\n",
    "import shutil\n",
    "\n",
    "# Hàm detect và save_resized_faces giống như đã định nghĩa trước đó\n",
    "\n",
    "# Đường dẫn của thư mục chứa ảnh gốc\n",
    "input_dir = './data/Anne Hathaway'\n",
    "\n",
    "# Đường dẫn của thư mục đích để lưu ảnh đã được xử lý\n",
    "output_dir = './Anne Hathaway'\n",
    "\n",
    "# Tạo thư mục đích nếu nó chưa tồn tại\n",
    "if not os.path.exists(output_dir):\n",
    "    os.makedirs(output_dir)\n",
    "\n",
    "# Duyệt qua các tệp trong thư mục đầu vào\n",
    "for filename in os.listdir(input_dir):\n",
    "    # Kiểm tra nếu tệp là tệp hình ảnh\n",
    "    if filename.endswith('.jpg') or filename.endswith('.png'):\n",
    "        # Đường dẫn đầy đủ đến tệp hình ảnh đầu vào\n",
    "        input_path = os.path.join(input_dir, filename)\n",
    "        \n",
    "        # Đọc ảnh\n",
    "        img = cv2.imread(input_path)\n",
    "        \n",
    "        # Lấy chỉ số của ảnh (chẳng hạn, số trong tên tệp)\n",
    "        image_index = int(filename.split('.')[0])\n",
    "        \n",
    "        # Áp dụng hàm save_resized_faces để lưu các khuôn mặt đã được xử lý\n",
    "        save_resized_faces(img, image_index)\n",
    "        \n",
    "        "
   ]
  },
  {
   "cell_type": "code",
   "execution_count": 32,
   "id": "4db1406d-7e7b-4dd5-bb9a-cadcf66995be",
   "metadata": {},
   "outputs": [
    {
     "ename": "IndentationError",
     "evalue": "unexpected indent (552658067.py, line 2)",
     "output_type": "error",
     "traceback": [
      "\u001b[1;36m  Cell \u001b[1;32mIn[32], line 2\u001b[1;36m\u001b[0m\n\u001b[1;33m    output_image_dir = os.path.join(output_dir, f'image_{image_index}')\u001b[0m\n\u001b[1;37m    ^\u001b[0m\n\u001b[1;31mIndentationError\u001b[0m\u001b[1;31m:\u001b[0m unexpected indent\n"
     ]
    }
   ],
   "source": [
    "# Đường dẫn đến thư mục lưu ảnh đã xử lý\n",
    "        output_image_dir = os.path.join(output_dir, f'image_{image_index}')\n",
    "        \n",
    "        # Tạo thư mục nếu nó chưa tồn tại\n",
    "        if not os.path.exists(output_image_dir):\n",
    "            os.makedirs(output_image_dir)\n",
    "        \n",
    "        # Di chuyển tất cả các tệp đã lưu vào thư mục mới\n",
    "        for output_filename in os.listdir('.'):\n",
    "            if output_filename.startswith(f'image_{image_index}_face'):\n",
    "                shutil.move(output_filename, output_image_dir)"
   ]
  },
  {
   "cell_type": "code",
   "execution_count": null,
   "id": "633dc005-ceba-4c86-9bd9-c30a99a223cb",
   "metadata": {},
   "outputs": [],
   "source": []
  },
  {
   "cell_type": "code",
   "execution_count": null,
   "id": "ec45a487-835c-4a7a-9d39-df75ac7926c5",
   "metadata": {},
   "outputs": [],
   "source": []
  }
 ],
 "metadata": {
  "kernelspec": {
   "display_name": "Python 3 (ipykernel)",
   "language": "python",
   "name": "python3"
  },
  "language_info": {
   "codemirror_mode": {
    "name": "ipython",
    "version": 3
   },
   "file_extension": ".py",
   "mimetype": "text/x-python",
   "name": "python",
   "nbconvert_exporter": "python",
   "pygments_lexer": "ipython3",
   "version": "3.10.14"
  }
 },
 "nbformat": 4,
 "nbformat_minor": 5
}
